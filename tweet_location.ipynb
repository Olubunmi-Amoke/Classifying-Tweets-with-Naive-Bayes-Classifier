{
 "cells": [
  {
   "cell_type": "markdown",
   "metadata": {},
   "source": [
    "# Classifying Tweets\n",
    "\n",
    "## Introduction\n",
    "\n",
    "This project analyzes real tweets gathered from three locations and uses a Naive Bayes Classifier to find patterns in them. The goal is to create a classification algorithm that can classify any tweet (or sentence) and predict whether that sentence came from New York, London, or Paris.\n",
    "\n",
    "#### Data sources:\n",
    "\n",
    "The json files analyzed was provided by Codecademy."
   ]
  },
  {
   "cell_type": "markdown",
   "metadata": {},
   "source": [
    "## Scoping\n",
    "\n",
    "- Investigate Data.\n",
    "    \n",
    "- Naive Bayes Classifier\n",
    "    - Combine all texts\n",
    "    - Split the Data into Training and Test Sets\n",
    "    - Make the Count Vectors\n",
    "    - Train and Test the Naive Bayes Classifier\n",
    "    - Model Evaluation\n",
    "    - Test on new Data"
   ]
  },
  {
   "cell_type": "markdown",
   "metadata": {},
   "source": [
    "## Import Python Modules"
   ]
  },
  {
   "cell_type": "code",
   "execution_count": 1,
   "metadata": {},
   "outputs": [],
   "source": [
    "import pandas as pd\n",
    "import numpy as np\n",
    "from sklearn.model_selection import train_test_split\n",
    "from sklearn.feature_extraction.text import CountVectorizer\n",
    "from sklearn.naive_bayes import MultinomialNB\n",
    "from sklearn.metrics import accuracy_score, confusion_matrix"
   ]
  },
  {
   "cell_type": "markdown",
   "metadata": {},
   "source": [
    "# Load and Inspect Data\n",
    "\n",
    "Three files, `new_york.json`, `london.json`, and `paris.json`, are loaded into `new_york_tweets`, `london_tweets`, and `paris_tweets`. These files contain different features about real tweets such as user information, location, tweets' texts, the time tweet was created, favorite count, etc. Some of these features are dictionaries that contain more information.\n",
    "\n",
    "**new_york_tweets**: \n",
    "- There are 36 columns and 4,723 rows in `new_york_tweets`\n",
    "- 17 of 36 columns have missing values\n",
    "\n",
    "**london_tweets**:\n",
    "- There are 35 columns and 5,341 rows in `london_tweets`\n",
    "- 16 of 35 columns have missing values\n",
    "\n",
    "**paris_tweets**:\n",
    "- There are 35 columns and 2,510 rows in `paris_tweets`\n",
    "- 16 of 35 columns have missing values"
   ]
  },
  {
   "cell_type": "code",
   "execution_count": 2,
   "metadata": {
    "scrolled": false
   },
   "outputs": [],
   "source": [
    "new_york_tweets = pd.read_json(\"new_york.json\", lines=True)"
   ]
  },
  {
   "cell_type": "code",
   "execution_count": 3,
   "metadata": {},
   "outputs": [],
   "source": [
    "pd.options.display.max_columns = 60\n",
    "pd.options.display.max_colwidth = 500"
   ]
  },
  {
   "cell_type": "code",
   "execution_count": 4,
   "metadata": {
    "scrolled": true
   },
   "outputs": [
    {
     "data": {
      "text/html": [
       "<div>\n",
       "<style scoped>\n",
       "    .dataframe tbody tr th:only-of-type {\n",
       "        vertical-align: middle;\n",
       "    }\n",
       "\n",
       "    .dataframe tbody tr th {\n",
       "        vertical-align: top;\n",
       "    }\n",
       "\n",
       "    .dataframe thead th {\n",
       "        text-align: right;\n",
       "    }\n",
       "</style>\n",
       "<table border=\"1\" class=\"dataframe\">\n",
       "  <thead>\n",
       "    <tr style=\"text-align: right;\">\n",
       "      <th></th>\n",
       "      <th>created_at</th>\n",
       "      <th>id</th>\n",
       "      <th>id_str</th>\n",
       "      <th>text</th>\n",
       "      <th>display_text_range</th>\n",
       "      <th>source</th>\n",
       "      <th>truncated</th>\n",
       "      <th>in_reply_to_status_id</th>\n",
       "      <th>in_reply_to_status_id_str</th>\n",
       "      <th>in_reply_to_user_id</th>\n",
       "      <th>in_reply_to_user_id_str</th>\n",
       "      <th>in_reply_to_screen_name</th>\n",
       "      <th>user</th>\n",
       "      <th>geo</th>\n",
       "      <th>coordinates</th>\n",
       "      <th>place</th>\n",
       "      <th>contributors</th>\n",
       "      <th>is_quote_status</th>\n",
       "      <th>quote_count</th>\n",
       "      <th>reply_count</th>\n",
       "      <th>retweet_count</th>\n",
       "      <th>favorite_count</th>\n",
       "      <th>entities</th>\n",
       "      <th>favorited</th>\n",
       "      <th>retweeted</th>\n",
       "      <th>filter_level</th>\n",
       "      <th>lang</th>\n",
       "      <th>timestamp_ms</th>\n",
       "      <th>extended_tweet</th>\n",
       "      <th>possibly_sensitive</th>\n",
       "      <th>quoted_status_id</th>\n",
       "      <th>quoted_status_id_str</th>\n",
       "      <th>quoted_status</th>\n",
       "      <th>quoted_status_permalink</th>\n",
       "      <th>extended_entities</th>\n",
       "      <th>withheld_in_countries</th>\n",
       "    </tr>\n",
       "  </thead>\n",
       "  <tbody>\n",
       "    <tr>\n",
       "      <th>0</th>\n",
       "      <td>2018-07-26 13:32:33+00:00</td>\n",
       "      <td>1022474755625164800</td>\n",
       "      <td>1022474755625164800</td>\n",
       "      <td>@DelgadoforNY19 Calendar marked.</td>\n",
       "      <td>[16, 32]</td>\n",
       "      <td>&lt;a href=\"http://twitter.com/download/android\" rel=\"nofollow\"&gt;Twitter for Android&lt;/a&gt;</td>\n",
       "      <td>False</td>\n",
       "      <td>1.022208e+18</td>\n",
       "      <td>1.022208e+18</td>\n",
       "      <td>8.290618e+17</td>\n",
       "      <td>8.290618e+17</td>\n",
       "      <td>DelgadoforNY19</td>\n",
       "      <td>{'id': 316616881, 'id_str': '316616881', 'name': 'Adam Ford', 'screen_name': 'NYCVermouth', 'location': 'New York City', 'url': 'http://www.fordobrien.com', 'description': 'White Collar Criminal Defense Lawyer. Atsby Vermouth founder. Authored the Vermouth book. I keep threatening to start a podcast.', 'translator_type': 'none', 'protected': False, 'verified': False, 'followers_count': 612, 'friends_count': 615, 'listed_count': 17, 'favourites_count': 3813, 'statuses_count': 2109, 'created_a...</td>\n",
       "      <td>None</td>\n",
       "      <td>None</td>\n",
       "      <td>{'id': '01a9a39529b27f36', 'url': 'https://api.twitter.com/1.1/geo/id/01a9a39529b27f36.json', 'place_type': 'city', 'name': 'Manhattan', 'full_name': 'Manhattan, NY', 'country_code': 'US', 'country': 'United States', 'bounding_box': {'type': 'Polygon', 'coordinates': [[[-74.026675, 40.683935], [-74.026675, 40.877483], [-73.910408, 40.877483], [-73.910408, 40.683935]]]}, 'attributes': {}}</td>\n",
       "      <td>NaN</td>\n",
       "      <td>False</td>\n",
       "      <td>0</td>\n",
       "      <td>0</td>\n",
       "      <td>0</td>\n",
       "      <td>0</td>\n",
       "      <td>{'hashtags': [], 'urls': [], 'user_mentions': [{'screen_name': 'DelgadoforNY19', 'name': 'Antonio Delgado', 'id': 829061809135030272, 'id_str': '829061809135030272', 'indices': [0, 15]}], 'symbols': []}</td>\n",
       "      <td>False</td>\n",
       "      <td>False</td>\n",
       "      <td>low</td>\n",
       "      <td>en</td>\n",
       "      <td>2018-07-26 13:32:33.060</td>\n",
       "      <td>NaN</td>\n",
       "      <td>NaN</td>\n",
       "      <td>NaN</td>\n",
       "      <td>NaN</td>\n",
       "      <td>NaN</td>\n",
       "      <td>NaN</td>\n",
       "      <td>NaN</td>\n",
       "      <td>NaN</td>\n",
       "    </tr>\n",
       "  </tbody>\n",
       "</table>\n",
       "</div>"
      ],
      "text/plain": [
       "                 created_at                   id               id_str  \\\n",
       "0 2018-07-26 13:32:33+00:00  1022474755625164800  1022474755625164800   \n",
       "\n",
       "                               text display_text_range  \\\n",
       "0  @DelgadoforNY19 Calendar marked.           [16, 32]   \n",
       "\n",
       "                                                                                 source  \\\n",
       "0  <a href=\"http://twitter.com/download/android\" rel=\"nofollow\">Twitter for Android</a>   \n",
       "\n",
       "   truncated  in_reply_to_status_id  in_reply_to_status_id_str  \\\n",
       "0      False           1.022208e+18               1.022208e+18   \n",
       "\n",
       "   in_reply_to_user_id  in_reply_to_user_id_str in_reply_to_screen_name  \\\n",
       "0         8.290618e+17             8.290618e+17          DelgadoforNY19   \n",
       "\n",
       "                                                                                                                                                                                                                                                                                                                                                                                                                                                                                                                  user  \\\n",
       "0  {'id': 316616881, 'id_str': '316616881', 'name': 'Adam Ford', 'screen_name': 'NYCVermouth', 'location': 'New York City', 'url': 'http://www.fordobrien.com', 'description': 'White Collar Criminal Defense Lawyer. Atsby Vermouth founder. Authored the Vermouth book. I keep threatening to start a podcast.', 'translator_type': 'none', 'protected': False, 'verified': False, 'followers_count': 612, 'friends_count': 615, 'listed_count': 17, 'favourites_count': 3813, 'statuses_count': 2109, 'created_a...   \n",
       "\n",
       "    geo coordinates  \\\n",
       "0  None        None   \n",
       "\n",
       "                                                                                                                                                                                                                                                                                                                                                                                                    place  \\\n",
       "0  {'id': '01a9a39529b27f36', 'url': 'https://api.twitter.com/1.1/geo/id/01a9a39529b27f36.json', 'place_type': 'city', 'name': 'Manhattan', 'full_name': 'Manhattan, NY', 'country_code': 'US', 'country': 'United States', 'bounding_box': {'type': 'Polygon', 'coordinates': [[[-74.026675, 40.683935], [-74.026675, 40.877483], [-73.910408, 40.877483], [-73.910408, 40.683935]]]}, 'attributes': {}}   \n",
       "\n",
       "   contributors  is_quote_status  quote_count  reply_count  retweet_count  \\\n",
       "0           NaN            False            0            0              0   \n",
       "\n",
       "   favorite_count  \\\n",
       "0               0   \n",
       "\n",
       "                                                                                                                                                                                                     entities  \\\n",
       "0  {'hashtags': [], 'urls': [], 'user_mentions': [{'screen_name': 'DelgadoforNY19', 'name': 'Antonio Delgado', 'id': 829061809135030272, 'id_str': '829061809135030272', 'indices': [0, 15]}], 'symbols': []}   \n",
       "\n",
       "   favorited  retweeted filter_level lang            timestamp_ms  \\\n",
       "0      False      False          low   en 2018-07-26 13:32:33.060   \n",
       "\n",
       "  extended_tweet  possibly_sensitive  quoted_status_id  quoted_status_id_str  \\\n",
       "0            NaN                 NaN               NaN                   NaN   \n",
       "\n",
       "  quoted_status quoted_status_permalink extended_entities  \\\n",
       "0           NaN                     NaN               NaN   \n",
       "\n",
       "  withheld_in_countries  \n",
       "0                   NaN  "
      ]
     },
     "execution_count": 4,
     "metadata": {},
     "output_type": "execute_result"
    }
   ],
   "source": [
    "new_york_tweets.head(1)"
   ]
  },
  {
   "cell_type": "code",
   "execution_count": 5,
   "metadata": {},
   "outputs": [
    {
     "name": "stdout",
     "output_type": "stream",
     "text": [
      "<class 'pandas.core.frame.DataFrame'>\n",
      "RangeIndex: 4723 entries, 0 to 4722\n",
      "Data columns (total 36 columns):\n",
      " #   Column                     Non-Null Count  Dtype              \n",
      "---  ------                     --------------  -----              \n",
      " 0   created_at                 4723 non-null   datetime64[ns, UTC]\n",
      " 1   id                         4723 non-null   int64              \n",
      " 2   id_str                     4723 non-null   int64              \n",
      " 3   text                       4723 non-null   object             \n",
      " 4   display_text_range         2811 non-null   object             \n",
      " 5   source                     4723 non-null   object             \n",
      " 6   truncated                  4723 non-null   bool               \n",
      " 7   in_reply_to_status_id      1668 non-null   float64            \n",
      " 8   in_reply_to_status_id_str  1668 non-null   float64            \n",
      " 9   in_reply_to_user_id        1829 non-null   float64            \n",
      " 10  in_reply_to_user_id_str    1829 non-null   float64            \n",
      " 11  in_reply_to_screen_name    1829 non-null   object             \n",
      " 12  user                       4723 non-null   object             \n",
      " 13  geo                        668 non-null    object             \n",
      " 14  coordinates                668 non-null    object             \n",
      " 15  place                      4723 non-null   object             \n",
      " 16  contributors               0 non-null      float64            \n",
      " 17  is_quote_status            4723 non-null   bool               \n",
      " 18  quote_count                4723 non-null   int64              \n",
      " 19  reply_count                4723 non-null   int64              \n",
      " 20  retweet_count              4723 non-null   int64              \n",
      " 21  favorite_count             4723 non-null   int64              \n",
      " 22  entities                   4723 non-null   object             \n",
      " 23  favorited                  4723 non-null   bool               \n",
      " 24  retweeted                  4723 non-null   bool               \n",
      " 25  filter_level               4723 non-null   object             \n",
      " 26  lang                       4723 non-null   object             \n",
      " 27  timestamp_ms               4723 non-null   datetime64[ns]     \n",
      " 28  extended_tweet             1227 non-null   object             \n",
      " 29  possibly_sensitive         2286 non-null   float64            \n",
      " 30  quoted_status_id           795 non-null    float64            \n",
      " 31  quoted_status_id_str       795 non-null    float64            \n",
      " 32  quoted_status              795 non-null    object             \n",
      " 33  quoted_status_permalink    795 non-null    object             \n",
      " 34  extended_entities          451 non-null    object             \n",
      " 35  withheld_in_countries      1 non-null      object             \n",
      "dtypes: bool(4), datetime64[ns, UTC](1), datetime64[ns](1), float64(8), int64(6), object(16)\n",
      "memory usage: 1.2+ MB\n"
     ]
    }
   ],
   "source": [
    "new_york_tweets.info()"
   ]
  },
  {
   "cell_type": "code",
   "execution_count": 6,
   "metadata": {},
   "outputs": [
    {
     "data": {
      "text/html": [
       "<div>\n",
       "<style scoped>\n",
       "    .dataframe tbody tr th:only-of-type {\n",
       "        vertical-align: middle;\n",
       "    }\n",
       "\n",
       "    .dataframe tbody tr th {\n",
       "        vertical-align: top;\n",
       "    }\n",
       "\n",
       "    .dataframe thead th {\n",
       "        text-align: right;\n",
       "    }\n",
       "</style>\n",
       "<table border=\"1\" class=\"dataframe\">\n",
       "  <thead>\n",
       "    <tr style=\"text-align: right;\">\n",
       "      <th></th>\n",
       "      <th>created_at</th>\n",
       "      <th>id</th>\n",
       "      <th>id_str</th>\n",
       "      <th>text</th>\n",
       "      <th>display_text_range</th>\n",
       "      <th>source</th>\n",
       "      <th>truncated</th>\n",
       "      <th>in_reply_to_status_id</th>\n",
       "      <th>in_reply_to_status_id_str</th>\n",
       "      <th>in_reply_to_user_id</th>\n",
       "      <th>in_reply_to_user_id_str</th>\n",
       "      <th>in_reply_to_screen_name</th>\n",
       "      <th>user</th>\n",
       "      <th>geo</th>\n",
       "      <th>coordinates</th>\n",
       "      <th>place</th>\n",
       "      <th>contributors</th>\n",
       "      <th>is_quote_status</th>\n",
       "      <th>extended_tweet</th>\n",
       "      <th>quote_count</th>\n",
       "      <th>reply_count</th>\n",
       "      <th>retweet_count</th>\n",
       "      <th>favorite_count</th>\n",
       "      <th>entities</th>\n",
       "      <th>favorited</th>\n",
       "      <th>retweeted</th>\n",
       "      <th>filter_level</th>\n",
       "      <th>lang</th>\n",
       "      <th>timestamp_ms</th>\n",
       "      <th>possibly_sensitive</th>\n",
       "      <th>quoted_status_id</th>\n",
       "      <th>quoted_status_id_str</th>\n",
       "      <th>quoted_status</th>\n",
       "      <th>quoted_status_permalink</th>\n",
       "      <th>extended_entities</th>\n",
       "    </tr>\n",
       "  </thead>\n",
       "  <tbody>\n",
       "    <tr>\n",
       "      <th>0</th>\n",
       "      <td>2018-07-26 13:39:30+00:00</td>\n",
       "      <td>1022476504855400449</td>\n",
       "      <td>1022476504855400448</td>\n",
       "      <td>@bbclaurak i agree Laura but the Party you seem to support so strongly is slowly doing the same thing . . . and usi… https://t.co/tsRsVBozIR</td>\n",
       "      <td>[11, 140]</td>\n",
       "      <td>&lt;a href=\"http://twitter.com/download/iphone\" rel=\"nofollow\"&gt;Twitter for iPhone&lt;/a&gt;</td>\n",
       "      <td>True</td>\n",
       "      <td>1.022447e+18</td>\n",
       "      <td>1.022447e+18</td>\n",
       "      <td>61183568.0</td>\n",
       "      <td>61183568.0</td>\n",
       "      <td>bbclaurak</td>\n",
       "      <td>{'id': 340170806, 'id_str': '340170806', 'name': 'Big Bobs bastard beans', 'screen_name': 'annoyed_aldo', 'location': None, 'url': None, 'description': 'Memento Mori . . . check my timeline before following me 😒😒 come at me bitches . . . I’ll just block your racist, hateful asses . . .', 'translator_type': 'none', 'protected': False, 'verified': False, 'followers_count': 775, 'friends_count': 1523, 'listed_count': 60, 'favourites_count': 16805, 'statuses_count': 38211, 'created_at': 'Fri Jul...</td>\n",
       "      <td>None</td>\n",
       "      <td>None</td>\n",
       "      <td>{'id': '58f909abfd95e133', 'url': 'https://api.twitter.com/1.1/geo/id/58f909abfd95e133.json', 'place_type': 'city', 'name': 'Lewisham', 'full_name': 'Lewisham, London', 'country_code': 'GB', 'country': 'United Kingdom', 'bounding_box': {'type': 'Polygon', 'coordinates': [[[-0.074547, 51.414087], [-0.074547, 51.494127], [0.038567, 51.494127], [0.038567, 51.414087]]]}, 'attributes': {}}</td>\n",
       "      <td>NaN</td>\n",
       "      <td>False</td>\n",
       "      <td>{'full_text': '@bbclaurak i agree Laura but the Party you seem to support so strongly is slowly doing the same thing . . . and using you as their puppet 😐😐😐', 'display_text_range': [11, 141], 'entities': {'hashtags': [], 'urls': [], 'user_mentions': [{'screen_name': 'bbclaurak', 'name': 'Laura Kuenssberg', 'id': 61183568, 'id_str': '61183568', 'indices': [0, 10]}], 'symbols': []}}</td>\n",
       "      <td>0</td>\n",
       "      <td>0</td>\n",
       "      <td>0</td>\n",
       "      <td>0</td>\n",
       "      <td>{'hashtags': [], 'urls': [{'url': 'https://t.co/tsRsVBozIR', 'expanded_url': 'https://twitter.com/i/web/status/1022476504855400449', 'display_url': 'twitter.com/i/web/status/1…', 'indices': [117, 140]}], 'user_mentions': [{'screen_name': 'bbclaurak', 'name': 'Laura Kuenssberg', 'id': 61183568, 'id_str': '61183568', 'indices': [0, 10]}], 'symbols': []}</td>\n",
       "      <td>False</td>\n",
       "      <td>False</td>\n",
       "      <td>low</td>\n",
       "      <td>en</td>\n",
       "      <td>2018-07-26 13:39:30.109</td>\n",
       "      <td>NaN</td>\n",
       "      <td>NaN</td>\n",
       "      <td>NaN</td>\n",
       "      <td>NaN</td>\n",
       "      <td>NaN</td>\n",
       "      <td>NaN</td>\n",
       "    </tr>\n",
       "  </tbody>\n",
       "</table>\n",
       "</div>"
      ],
      "text/plain": [
       "                 created_at                   id               id_str  \\\n",
       "0 2018-07-26 13:39:30+00:00  1022476504855400449  1022476504855400448   \n",
       "\n",
       "                                                                                                                                           text  \\\n",
       "0  @bbclaurak i agree Laura but the Party you seem to support so strongly is slowly doing the same thing . . . and usi… https://t.co/tsRsVBozIR   \n",
       "\n",
       "  display_text_range  \\\n",
       "0          [11, 140]   \n",
       "\n",
       "                                                                               source  \\\n",
       "0  <a href=\"http://twitter.com/download/iphone\" rel=\"nofollow\">Twitter for iPhone</a>   \n",
       "\n",
       "   truncated  in_reply_to_status_id  in_reply_to_status_id_str  \\\n",
       "0       True           1.022447e+18               1.022447e+18   \n",
       "\n",
       "   in_reply_to_user_id  in_reply_to_user_id_str in_reply_to_screen_name  \\\n",
       "0           61183568.0               61183568.0               bbclaurak   \n",
       "\n",
       "                                                                                                                                                                                                                                                                                                                                                                                                                                                                                                                  user  \\\n",
       "0  {'id': 340170806, 'id_str': '340170806', 'name': 'Big Bobs bastard beans', 'screen_name': 'annoyed_aldo', 'location': None, 'url': None, 'description': 'Memento Mori . . . check my timeline before following me 😒😒 come at me bitches . . . I’ll just block your racist, hateful asses . . .', 'translator_type': 'none', 'protected': False, 'verified': False, 'followers_count': 775, 'friends_count': 1523, 'listed_count': 60, 'favourites_count': 16805, 'statuses_count': 38211, 'created_at': 'Fri Jul...   \n",
       "\n",
       "    geo coordinates  \\\n",
       "0  None        None   \n",
       "\n",
       "                                                                                                                                                                                                                                                                                                                                                                                                 place  \\\n",
       "0  {'id': '58f909abfd95e133', 'url': 'https://api.twitter.com/1.1/geo/id/58f909abfd95e133.json', 'place_type': 'city', 'name': 'Lewisham', 'full_name': 'Lewisham, London', 'country_code': 'GB', 'country': 'United Kingdom', 'bounding_box': {'type': 'Polygon', 'coordinates': [[[-0.074547, 51.414087], [-0.074547, 51.494127], [0.038567, 51.494127], [0.038567, 51.414087]]]}, 'attributes': {}}   \n",
       "\n",
       "   contributors  is_quote_status  \\\n",
       "0           NaN            False   \n",
       "\n",
       "                                                                                                                                                                                                                                                                                                                                                                                    extended_tweet  \\\n",
       "0  {'full_text': '@bbclaurak i agree Laura but the Party you seem to support so strongly is slowly doing the same thing . . . and using you as their puppet 😐😐😐', 'display_text_range': [11, 141], 'entities': {'hashtags': [], 'urls': [], 'user_mentions': [{'screen_name': 'bbclaurak', 'name': 'Laura Kuenssberg', 'id': 61183568, 'id_str': '61183568', 'indices': [0, 10]}], 'symbols': []}}   \n",
       "\n",
       "   quote_count  reply_count  retweet_count  favorite_count  \\\n",
       "0            0            0              0               0   \n",
       "\n",
       "                                                                                                                                                                                                                                                                                                                                                            entities  \\\n",
       "0  {'hashtags': [], 'urls': [{'url': 'https://t.co/tsRsVBozIR', 'expanded_url': 'https://twitter.com/i/web/status/1022476504855400449', 'display_url': 'twitter.com/i/web/status/1…', 'indices': [117, 140]}], 'user_mentions': [{'screen_name': 'bbclaurak', 'name': 'Laura Kuenssberg', 'id': 61183568, 'id_str': '61183568', 'indices': [0, 10]}], 'symbols': []}   \n",
       "\n",
       "   favorited  retweeted filter_level lang            timestamp_ms  \\\n",
       "0      False      False          low   en 2018-07-26 13:39:30.109   \n",
       "\n",
       "   possibly_sensitive  quoted_status_id  quoted_status_id_str quoted_status  \\\n",
       "0                 NaN               NaN                   NaN           NaN   \n",
       "\n",
       "  quoted_status_permalink extended_entities  \n",
       "0                     NaN               NaN  "
      ]
     },
     "execution_count": 6,
     "metadata": {},
     "output_type": "execute_result"
    }
   ],
   "source": [
    "london_tweets = pd.read_json(\"london.json\", lines=True)\n",
    "london_tweets.head(1)"
   ]
  },
  {
   "cell_type": "code",
   "execution_count": 7,
   "metadata": {},
   "outputs": [
    {
     "name": "stdout",
     "output_type": "stream",
     "text": [
      "<class 'pandas.core.frame.DataFrame'>\n",
      "RangeIndex: 5341 entries, 0 to 5340\n",
      "Data columns (total 35 columns):\n",
      " #   Column                     Non-Null Count  Dtype              \n",
      "---  ------                     --------------  -----              \n",
      " 0   created_at                 5341 non-null   datetime64[ns, UTC]\n",
      " 1   id                         5341 non-null   int64              \n",
      " 2   id_str                     5341 non-null   int64              \n",
      " 3   text                       5341 non-null   object             \n",
      " 4   display_text_range         3535 non-null   object             \n",
      " 5   source                     5341 non-null   object             \n",
      " 6   truncated                  5341 non-null   bool               \n",
      " 7   in_reply_to_status_id      2230 non-null   float64            \n",
      " 8   in_reply_to_status_id_str  2230 non-null   float64            \n",
      " 9   in_reply_to_user_id        2444 non-null   float64            \n",
      " 10  in_reply_to_user_id_str    2444 non-null   float64            \n",
      " 11  in_reply_to_screen_name    2444 non-null   object             \n",
      " 12  user                       5341 non-null   object             \n",
      " 13  geo                        672 non-null    object             \n",
      " 14  coordinates                672 non-null    object             \n",
      " 15  place                      5341 non-null   object             \n",
      " 16  contributors               0 non-null      float64            \n",
      " 17  is_quote_status            5341 non-null   bool               \n",
      " 18  extended_tweet             1520 non-null   object             \n",
      " 19  quote_count                5341 non-null   int64              \n",
      " 20  reply_count                5341 non-null   int64              \n",
      " 21  retweet_count              5341 non-null   int64              \n",
      " 22  favorite_count             5341 non-null   int64              \n",
      " 23  entities                   5341 non-null   object             \n",
      " 24  favorited                  5341 non-null   bool               \n",
      " 25  retweeted                  5341 non-null   bool               \n",
      " 26  filter_level               5341 non-null   object             \n",
      " 27  lang                       5341 non-null   object             \n",
      " 28  timestamp_ms               5341 non-null   datetime64[ns]     \n",
      " 29  possibly_sensitive         2394 non-null   float64            \n",
      " 30  quoted_status_id           682 non-null    float64            \n",
      " 31  quoted_status_id_str       682 non-null    float64            \n",
      " 32  quoted_status              682 non-null    object             \n",
      " 33  quoted_status_permalink    682 non-null    object             \n",
      " 34  extended_entities          580 non-null    object             \n",
      "dtypes: bool(4), datetime64[ns, UTC](1), datetime64[ns](1), float64(8), int64(6), object(15)\n",
      "memory usage: 1.3+ MB\n"
     ]
    }
   ],
   "source": [
    "london_tweets.info()"
   ]
  },
  {
   "cell_type": "code",
   "execution_count": 8,
   "metadata": {},
   "outputs": [
    {
     "data": {
      "text/html": [
       "<div>\n",
       "<style scoped>\n",
       "    .dataframe tbody tr th:only-of-type {\n",
       "        vertical-align: middle;\n",
       "    }\n",
       "\n",
       "    .dataframe tbody tr th {\n",
       "        vertical-align: top;\n",
       "    }\n",
       "\n",
       "    .dataframe thead th {\n",
       "        text-align: right;\n",
       "    }\n",
       "</style>\n",
       "<table border=\"1\" class=\"dataframe\">\n",
       "  <thead>\n",
       "    <tr style=\"text-align: right;\">\n",
       "      <th></th>\n",
       "      <th>created_at</th>\n",
       "      <th>id</th>\n",
       "      <th>id_str</th>\n",
       "      <th>text</th>\n",
       "      <th>source</th>\n",
       "      <th>truncated</th>\n",
       "      <th>in_reply_to_status_id</th>\n",
       "      <th>in_reply_to_status_id_str</th>\n",
       "      <th>in_reply_to_user_id</th>\n",
       "      <th>in_reply_to_user_id_str</th>\n",
       "      <th>in_reply_to_screen_name</th>\n",
       "      <th>user</th>\n",
       "      <th>geo</th>\n",
       "      <th>coordinates</th>\n",
       "      <th>place</th>\n",
       "      <th>contributors</th>\n",
       "      <th>is_quote_status</th>\n",
       "      <th>quote_count</th>\n",
       "      <th>reply_count</th>\n",
       "      <th>retweet_count</th>\n",
       "      <th>favorite_count</th>\n",
       "      <th>entities</th>\n",
       "      <th>favorited</th>\n",
       "      <th>retweeted</th>\n",
       "      <th>filter_level</th>\n",
       "      <th>lang</th>\n",
       "      <th>timestamp_ms</th>\n",
       "      <th>display_text_range</th>\n",
       "      <th>extended_entities</th>\n",
       "      <th>possibly_sensitive</th>\n",
       "      <th>quoted_status_id</th>\n",
       "      <th>quoted_status_id_str</th>\n",
       "      <th>quoted_status</th>\n",
       "      <th>quoted_status_permalink</th>\n",
       "      <th>extended_tweet</th>\n",
       "    </tr>\n",
       "  </thead>\n",
       "  <tbody>\n",
       "    <tr>\n",
       "      <th>0</th>\n",
       "      <td>2018-07-27 17:40:45+00:00</td>\n",
       "      <td>1022899608396156928</td>\n",
       "      <td>1022899608396156928</td>\n",
       "      <td>Bulletin météo parisien : des grêlons énormes s'abattent sur nous. La température à dégringoler de 36 A20 😍😍😍😍😍</td>\n",
       "      <td>&lt;a href=\"http://twitter.com/download/android\" rel=\"nofollow\"&gt;Twitter for Android&lt;/a&gt;</td>\n",
       "      <td>False</td>\n",
       "      <td>NaN</td>\n",
       "      <td>NaN</td>\n",
       "      <td>NaN</td>\n",
       "      <td>NaN</td>\n",
       "      <td>None</td>\n",
       "      <td>{'id': 898983688960167936, 'id_str': '898983688960167936', 'name': 'l'idiopathe', 'screen_name': 'olivier7399', 'location': 'Paris, France', 'url': None, 'description': '#bibliothécaire et #francophone', 'translator_type': 'none', 'protected': False, 'verified': False, 'followers_count': 18, 'friends_count': 21, 'listed_count': 1, 'favourites_count': 1906, 'statuses_count': 236, 'created_at': 'Sat Aug 19 19:03:08 +0000 2017', 'utc_offset': None, 'time_zone': None, 'geo_enabled': True, 'lang'...</td>\n",
       "      <td>None</td>\n",
       "      <td>None</td>\n",
       "      <td>{'id': '09f6a7707f18e0b1', 'url': 'https://api.twitter.com/1.1/geo/id/09f6a7707f18e0b1.json', 'place_type': 'city', 'name': 'Paris', 'full_name': 'Paris, France', 'country_code': 'FR', 'country': 'France', 'bounding_box': {'type': 'Polygon', 'coordinates': [[[2.224101, 48.815521], [2.224101, 48.902146], [2.469905, 48.902146], [2.469905, 48.815521]]]}, 'attributes': {}}</td>\n",
       "      <td>NaN</td>\n",
       "      <td>False</td>\n",
       "      <td>0</td>\n",
       "      <td>0</td>\n",
       "      <td>0</td>\n",
       "      <td>0</td>\n",
       "      <td>{'hashtags': [], 'urls': [], 'user_mentions': [], 'symbols': []}</td>\n",
       "      <td>False</td>\n",
       "      <td>False</td>\n",
       "      <td>low</td>\n",
       "      <td>fr</td>\n",
       "      <td>2018-07-27 17:40:45.854</td>\n",
       "      <td>NaN</td>\n",
       "      <td>NaN</td>\n",
       "      <td>NaN</td>\n",
       "      <td>NaN</td>\n",
       "      <td>NaN</td>\n",
       "      <td>NaN</td>\n",
       "      <td>NaN</td>\n",
       "      <td>NaN</td>\n",
       "    </tr>\n",
       "  </tbody>\n",
       "</table>\n",
       "</div>"
      ],
      "text/plain": [
       "                 created_at                   id               id_str  \\\n",
       "0 2018-07-27 17:40:45+00:00  1022899608396156928  1022899608396156928   \n",
       "\n",
       "                                                                                                              text  \\\n",
       "0  Bulletin météo parisien : des grêlons énormes s'abattent sur nous. La température à dégringoler de 36 A20 😍😍😍😍😍   \n",
       "\n",
       "                                                                                 source  \\\n",
       "0  <a href=\"http://twitter.com/download/android\" rel=\"nofollow\">Twitter for Android</a>   \n",
       "\n",
       "   truncated  in_reply_to_status_id  in_reply_to_status_id_str  \\\n",
       "0      False                    NaN                        NaN   \n",
       "\n",
       "   in_reply_to_user_id  in_reply_to_user_id_str in_reply_to_screen_name  \\\n",
       "0                  NaN                      NaN                    None   \n",
       "\n",
       "                                                                                                                                                                                                                                                                                                                                                                                                                                                                                                                  user  \\\n",
       "0  {'id': 898983688960167936, 'id_str': '898983688960167936', 'name': 'l'idiopathe', 'screen_name': 'olivier7399', 'location': 'Paris, France', 'url': None, 'description': '#bibliothécaire et #francophone', 'translator_type': 'none', 'protected': False, 'verified': False, 'followers_count': 18, 'friends_count': 21, 'listed_count': 1, 'favourites_count': 1906, 'statuses_count': 236, 'created_at': 'Sat Aug 19 19:03:08 +0000 2017', 'utc_offset': None, 'time_zone': None, 'geo_enabled': True, 'lang'...   \n",
       "\n",
       "    geo coordinates  \\\n",
       "0  None        None   \n",
       "\n",
       "                                                                                                                                                                                                                                                                                                                                                                                 place  \\\n",
       "0  {'id': '09f6a7707f18e0b1', 'url': 'https://api.twitter.com/1.1/geo/id/09f6a7707f18e0b1.json', 'place_type': 'city', 'name': 'Paris', 'full_name': 'Paris, France', 'country_code': 'FR', 'country': 'France', 'bounding_box': {'type': 'Polygon', 'coordinates': [[[2.224101, 48.815521], [2.224101, 48.902146], [2.469905, 48.902146], [2.469905, 48.815521]]]}, 'attributes': {}}   \n",
       "\n",
       "   contributors  is_quote_status  quote_count  reply_count  retweet_count  \\\n",
       "0           NaN            False            0            0              0   \n",
       "\n",
       "   favorite_count  \\\n",
       "0               0   \n",
       "\n",
       "                                                           entities  \\\n",
       "0  {'hashtags': [], 'urls': [], 'user_mentions': [], 'symbols': []}   \n",
       "\n",
       "   favorited  retweeted filter_level lang            timestamp_ms  \\\n",
       "0      False      False          low   fr 2018-07-27 17:40:45.854   \n",
       "\n",
       "  display_text_range extended_entities  possibly_sensitive  quoted_status_id  \\\n",
       "0                NaN               NaN                 NaN               NaN   \n",
       "\n",
       "   quoted_status_id_str quoted_status quoted_status_permalink extended_tweet  \n",
       "0                   NaN           NaN                     NaN            NaN  "
      ]
     },
     "execution_count": 8,
     "metadata": {},
     "output_type": "execute_result"
    }
   ],
   "source": [
    "paris_tweets = pd.read_json(\"paris.json\", lines=True)\n",
    "paris_tweets.head(1)"
   ]
  },
  {
   "cell_type": "code",
   "execution_count": 9,
   "metadata": {},
   "outputs": [
    {
     "name": "stdout",
     "output_type": "stream",
     "text": [
      "<class 'pandas.core.frame.DataFrame'>\n",
      "RangeIndex: 2510 entries, 0 to 2509\n",
      "Data columns (total 35 columns):\n",
      " #   Column                     Non-Null Count  Dtype              \n",
      "---  ------                     --------------  -----              \n",
      " 0   created_at                 2510 non-null   datetime64[ns, UTC]\n",
      " 1   id                         2510 non-null   int64              \n",
      " 2   id_str                     2510 non-null   int64              \n",
      " 3   text                       2510 non-null   object             \n",
      " 4   source                     2510 non-null   object             \n",
      " 5   truncated                  2510 non-null   bool               \n",
      " 6   in_reply_to_status_id      1040 non-null   float64            \n",
      " 7   in_reply_to_status_id_str  1040 non-null   float64            \n",
      " 8   in_reply_to_user_id        1101 non-null   float64            \n",
      " 9   in_reply_to_user_id_str    1101 non-null   float64            \n",
      " 10  in_reply_to_screen_name    1101 non-null   object             \n",
      " 11  user                       2510 non-null   object             \n",
      " 12  geo                        176 non-null    object             \n",
      " 13  coordinates                176 non-null    object             \n",
      " 14  place                      2510 non-null   object             \n",
      " 15  contributors               0 non-null      float64            \n",
      " 16  is_quote_status            2510 non-null   bool               \n",
      " 17  quote_count                2510 non-null   int64              \n",
      " 18  reply_count                2510 non-null   int64              \n",
      " 19  retweet_count              2510 non-null   int64              \n",
      " 20  favorite_count             2510 non-null   int64              \n",
      " 21  entities                   2510 non-null   object             \n",
      " 22  favorited                  2510 non-null   bool               \n",
      " 23  retweeted                  2510 non-null   bool               \n",
      " 24  filter_level               2510 non-null   object             \n",
      " 25  lang                       2510 non-null   object             \n",
      " 26  timestamp_ms               2510 non-null   datetime64[ns]     \n",
      " 27  display_text_range         1248 non-null   object             \n",
      " 28  extended_entities          298 non-null    object             \n",
      " 29  possibly_sensitive         653 non-null    float64            \n",
      " 30  quoted_status_id           362 non-null    float64            \n",
      " 31  quoted_status_id_str       362 non-null    float64            \n",
      " 32  quoted_status              362 non-null    object             \n",
      " 33  quoted_status_permalink    362 non-null    object             \n",
      " 34  extended_tweet             470 non-null    object             \n",
      "dtypes: bool(4), datetime64[ns, UTC](1), datetime64[ns](1), float64(8), int64(6), object(15)\n",
      "memory usage: 617.8+ KB\n"
     ]
    }
   ],
   "source": [
    "paris_tweets.info()"
   ]
  },
  {
   "cell_type": "markdown",
   "metadata": {},
   "source": [
    "<br>"
   ]
  },
  {
   "cell_type": "markdown",
   "metadata": {},
   "source": [
    "## Naive Bayes Classifier\n",
    "\n",
    "### Combine all texts:\n",
    "\n",
    "- Combine all tweets' texts from all three locations using the `+` operator into `all_tweets`\n",
    "- Make `labels` associated with those tweets: `0` represents a New York tweet, `1`  represents a London tweet, and `2` represents a Paris tweet."
   ]
  },
  {
   "cell_type": "code",
   "execution_count": 10,
   "metadata": {},
   "outputs": [],
   "source": [
    "new_york_text = new_york_tweets[\"text\"].tolist()\n",
    "london_text = london_tweets[\"text\"].tolist()\n",
    "paris_text = paris_tweets[\"text\"].tolist()"
   ]
  },
  {
   "cell_type": "code",
   "execution_count": 11,
   "metadata": {},
   "outputs": [],
   "source": [
    "all_tweets = new_york_text + london_text + paris_text\n",
    "labels = [0] * len(new_york_text) + [1] * len(london_text) + [2] * len(paris_text)"
   ]
  },
  {
   "cell_type": "markdown",
   "metadata": {},
   "source": [
    "### Split the Data into Training and Test Sets"
   ]
  },
  {
   "cell_type": "code",
   "execution_count": 12,
   "metadata": {},
   "outputs": [],
   "source": [
    "train_data, test_data, train_labels, test_labels = train_test_split(all_tweets, labels, test_size = 0.2, random_state = 1)"
   ]
  },
  {
   "cell_type": "code",
   "execution_count": 13,
   "metadata": {},
   "outputs": [
    {
     "name": "stdout",
     "output_type": "stream",
     "text": [
      "10059\n",
      "2515\n"
     ]
    }
   ],
   "source": [
    "print(len(train_data))\n",
    "print(len(test_data))"
   ]
  },
  {
   "cell_type": "markdown",
   "metadata": {},
   "source": [
    "### Make the Count Vectors"
   ]
  },
  {
   "cell_type": "code",
   "execution_count": 14,
   "metadata": {},
   "outputs": [
    {
     "data": {
      "text/plain": [
       "CountVectorizer()"
      ]
     },
     "execution_count": 14,
     "metadata": {},
     "output_type": "execute_result"
    }
   ],
   "source": [
    "counter = CountVectorizer()\n",
    "counter.fit(train_data)"
   ]
  },
  {
   "cell_type": "code",
   "execution_count": 15,
   "metadata": {},
   "outputs": [],
   "source": [
    "train_counts = counter.transform(train_data)\n",
    "test_counts = counter.transform(test_data)"
   ]
  },
  {
   "cell_type": "code",
   "execution_count": 16,
   "metadata": {},
   "outputs": [
    {
     "name": "stdout",
     "output_type": "stream",
     "text": [
      "@slack2thefuture Thank for the anecdote and the pictures.\n",
      "  (0, 2489)\t1\n",
      "  (0, 2537)\t1\n",
      "  (0, 10664)\t1\n",
      "  (0, 20782)\t1\n",
      "  (0, 24853)\t1\n",
      "  (0, 26683)\t1\n",
      "  (0, 26698)\t2\n"
     ]
    }
   ],
   "source": [
    "print(train_data[30])\n",
    "print(train_counts[30])"
   ]
  },
  {
   "cell_type": "markdown",
   "metadata": {},
   "source": [
    "### Train and Test the Naive Bayes Classifier"
   ]
  },
  {
   "cell_type": "code",
   "execution_count": 17,
   "metadata": {},
   "outputs": [
    {
     "data": {
      "text/plain": [
       "MultinomialNB()"
      ]
     },
     "execution_count": 17,
     "metadata": {},
     "output_type": "execute_result"
    }
   ],
   "source": [
    "classifier = MultinomialNB()\n",
    "classifier.fit(train_counts, train_labels)"
   ]
  },
  {
   "cell_type": "code",
   "execution_count": 18,
   "metadata": {},
   "outputs": [],
   "source": [
    "predictions = classifier.predict(test_counts)"
   ]
  },
  {
   "cell_type": "markdown",
   "metadata": {},
   "source": [
    "### Model Evaluation"
   ]
  },
  {
   "cell_type": "code",
   "execution_count": 19,
   "metadata": {},
   "outputs": [
    {
     "data": {
      "text/plain": [
       "0.68"
      ]
     },
     "execution_count": 19,
     "metadata": {},
     "output_type": "execute_result"
    }
   ],
   "source": [
    "np.round(accuracy_score(test_labels, predictions), 2)"
   ]
  },
  {
   "cell_type": "code",
   "execution_count": 20,
   "metadata": {},
   "outputs": [
    {
     "data": {
      "text/plain": [
       "array([[541, 404,  28],\n",
       "       [203, 824,  34],\n",
       "       [ 38, 103, 340]])"
      ]
     },
     "execution_count": 20,
     "metadata": {},
     "output_type": "execute_result"
    }
   ],
   "source": [
    "confusion_matrix(test_labels, predictions)"
   ]
  },
  {
   "cell_type": "markdown",
   "metadata": {},
   "source": [
    "### Test on new data"
   ]
  },
  {
   "cell_type": "code",
   "execution_count": 21,
   "metadata": {},
   "outputs": [],
   "source": [
    "tweet = 'The weather is not as cool as my accent'\n",
    "tweet_counts = counter.transform([tweet])"
   ]
  },
  {
   "cell_type": "code",
   "execution_count": 22,
   "metadata": {},
   "outputs": [
    {
     "data": {
      "text/plain": [
       "array([1])"
      ]
     },
     "execution_count": 22,
     "metadata": {},
     "output_type": "execute_result"
    }
   ],
   "source": [
    "classifier.predict(tweet_counts)"
   ]
  }
 ],
 "metadata": {
  "kernelspec": {
   "display_name": "Python 3 (ipykernel)",
   "language": "python",
   "name": "python3"
  },
  "language_info": {
   "codemirror_mode": {
    "name": "ipython",
    "version": 3
   },
   "file_extension": ".py",
   "mimetype": "text/x-python",
   "name": "python",
   "nbconvert_exporter": "python",
   "pygments_lexer": "ipython3",
   "version": "3.9.13"
  }
 },
 "nbformat": 4,
 "nbformat_minor": 2
}
